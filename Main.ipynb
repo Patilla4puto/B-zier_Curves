{
 "cells": [
  {
   "cell_type": "code",
   "execution_count": 1,
   "id": "00291990",
   "metadata": {},
   "outputs": [
    {
     "name": "stdout",
     "output_type": "stream",
     "text": [
      "hello\n"
     ]
    }
   ],
   "source": [
    "import matplotlib as mt\n",
    "import numpy as np\n",
    "\n",
    "def b_curve(t,points):\n",
    "    aux = [points] \n",
    "    for r in range(1,len(points)):\n",
    "        aux.append([0]*(len(points)-r))\n",
    "        for j in range(len(points)-r):\n",
    "            \n",
    "            aux[r][j] = ((1-t)*aux[r-1][j]+t*aux[r-1][j+1])\n",
    "    return(aux)\n",
    "def print_curve(points):\n",
    "    aux=points[0]\n",
    "    for t in range(0,1,0.001):\n",
    "        result=b_curve(t,points)\n",
    "        plot(aux,result)\n",
    "        for j in range len()\n",
    "        aux=points.copy()\n",
    "        \n",
    "def plot(initial,final):\n",
    "    \n",
    "\n"
   ]
  },
  {
   "cell_type": "code",
   "execution_count": null,
   "id": "a74ec844",
   "metadata": {},
   "outputs": [],
   "source": []
  }
 ],
 "metadata": {
  "kernelspec": {
   "display_name": "Python 3",
   "language": "python",
   "name": "python3"
  },
  "language_info": {
   "codemirror_mode": {
    "name": "ipython",
    "version": 3
   },
   "file_extension": ".py",
   "mimetype": "text/x-python",
   "name": "python",
   "nbconvert_exporter": "python",
   "pygments_lexer": "ipython3",
   "version": "3.8.8"
  }
 },
 "nbformat": 4,
 "nbformat_minor": 5
}
