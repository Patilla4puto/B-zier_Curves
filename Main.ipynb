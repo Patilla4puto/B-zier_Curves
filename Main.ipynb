{
 "cells": [
  {
   "cell_type": "code",
   "execution_count": 1,
   "id": "00291990",
   "metadata": {},
   "outputs": [],
   "source": [
    "import numpy as np\n",
    "import matplotlib.pyplot as plt\n",
    "from matplotlib.path import Path\n",
    "import matplotlib.patches as patches\n",
    "\n",
    "\n",
    "def drawPolygon(points, ax,showCircle=False, color=\"k\"):\n",
    "    path = Path(points, closed=False)\n",
    "    patch = patches.PathPatch(path, facecolor='none',edgecolor=color, lw=2)\n",
    "    ax.add_patch(patch)\n",
    "\n",
    "    if showCircle:\n",
    "        # Add green circles on controlpoints\n",
    "        for p in points:\n",
    "            ax.add_patch(plt.Circle(p, 0.05, color=\"green\"))"
   ]
  },
  {
   "cell_type": "code",
   "execution_count": 4,
   "id": "9aa2eaae",
   "metadata": {},
   "outputs": [],
   "source": [
    "def b_curve(t, points):\n",
    "    a = points.copy()\n",
    "    n = len(a)\n",
    "    for r in range(1, n):\n",
    "        for j in range(0, n - r):\n",
    "            a[j] = (1 - t) * a[j] + t * a[j + 1]\n",
    "    return a[0]\n",
    "\n",
    "def print_curve(points, ax):\n",
    "    drawPolygon(controlPoints,ax,True,color=\"lightgray\")\n",
    "\n",
    "    segments = []\n",
    "    for t in np.arange(0, 1, 0.001):\n",
    "        result = b_curve(t, points)\n",
    "        segments.append(result)\n",
    "    drawPolygon(segments, ax)\n",
    "\n"
   ]
  },
  {
   "cell_type": "code",
   "execution_count": 5,
   "id": "a4107ea1",
   "metadata": {},
   "outputs": [
    {
     "data": {
      "text/plain": "<Figure size 432x288 with 1 Axes>",
      "image/png": "[encoded data removed]"
     },
     "metadata": {
      "needs_background": "light"
     },
     "output_type": "display_data"
    }
   ],
   "source": [
    "fig, ax = plt.subplots()\n",
    "ax.set_xlim(0, 5)\n",
    "ax.set_ylim(0, 4)\n",
    "\n",
    "controlPoints = np.array([[1, 2], [2, 3], [3, 1.5], [4, 3]])\n",
    "\n",
    "print_curve(controlPoints, ax)\n",
    "\n",
    "\n",
    "\n",
    "plt.show()"
   ]
  },
  {
   "cell_type": "code",
   "execution_count": 3,
   "id": "a74ec844",
   "metadata": {},
   "outputs": [],
   "source": []
  }
 ],
 "metadata": {
  "kernelspec": {
   "name": "pycharm-b43f79c6",
   "language": "python",
   "display_name": "PyCharm (Python)"
  },
  "language_info": {
   "codemirror_mode": {
    "name": "ipython",
    "version": 3
   },
   "file_extension": ".py",
   "mimetype": "text/x-python",
   "name": "python",
   "nbconvert_exporter": "python",
   "pygments_lexer": "ipython3",
   "version": "3.8.8"
  }
 },
 "nbformat": 4,
 "nbformat_minor": 5
}