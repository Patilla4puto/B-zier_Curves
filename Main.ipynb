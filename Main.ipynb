{
 "cells": [
  {
   "cell_type": "code",
   "execution_count": 38,
   "id": "00291990",
   "metadata": {},
   "outputs": [],
   "source": [
    "import numpy as np\n",
    "import matplotlib.pyplot as plt\n",
    "from matplotlib.path import Path\n",
    "import matplotlib.patches as patches\n",
    "\n",
    "\n",
    "def drawPolygon(points, ax,color=\"k\"):\n",
    "    path = Path(points, closed=False)\n",
    "    patch = patches.PathPatch(path, facecolor='none', lw=2)\n",
    "    ax.add_patch(patch)\n",
    "    \n",
    "    # Add green circles on controlpoints\n",
    "    for p in points:\n",
    "        ax.add_patch(plt.Circle(p, 0.05, color=\"green\"))"
   ]
  },
  {
   "cell_type": "code",
   "execution_count": null,
   "id": "9aa2eaae",
   "metadata": {},
   "outputs": [],
   "source": [
    "def b_curve(t,points):\n",
    "    aux = [points] \n",
    "    for r in range(1,len(points)):\n",
    "        aux.append([0]*(len(points)-r))\n",
    "        for j in range(len(points)-r):\n",
    "            \n",
    "            aux[r][j] = ((1-t)*aux[r-1][j]+t*aux[r-1][j+1])\n",
    "    return(aux)\n",
    "def print_curve(points):\n",
    "    aux=points[0]\n",
    "    for t in range(0,1,0.001):\n",
    "        result=b_curve(t,points)\n",
    "        plot(aux,result)\n",
    "        for j in range len()\n",
    "        aux=points.copy()\n",
    "        \n",
    "def plot(initial,final):"
   ]
  },
  {
   "cell_type": "code",
   "execution_count": 39,
   "id": "a4107ea1",
   "metadata": {},
   "outputs": [
    {
     "data": {
      "image/png": "[encoded data removed]",
      "text/plain": [
       "<Figure size 432x288 with 1 Axes>"
      ]
     },
     "metadata": {
      "needs_background": "light"
     },
     "output_type": "display_data"
    }
   ],
   "source": [
    "fig, ax = plt.subplots()\n",
    "ax.set_xlim(0, 4)\n",
    "ax.set_ylim(0, 4)\n",
    "\n",
    "points = [[1,2],[2,3],[3,1.5]]\n",
    "drawPolygon(points,ax)\n",
    "\n",
    "\n",
    "points = [[1,1],[2,2],[3,0.5]]\n",
    "drawPolygon(points,ax)\n",
    "\n",
    "plt.show()"
   ]
  },
  {
   "cell_type": "code",
   "execution_count": null,
   "id": "a74ec844",
   "metadata": {},
   "outputs": [],
   "source": []
  }
 ],
 "metadata": {
  "kernelspec": {
   "display_name": "Python 3",
   "language": "python",
   "name": "python3"
  },
  "language_info": {
   "codemirror_mode": {
    "name": "ipython",
    "version": 3
   },
   "file_extension": ".py",
   "mimetype": "text/x-python",
   "name": "python",
   "nbconvert_exporter": "python",
   "pygments_lexer": "ipython3",
   "version": "3.8.8"
  }
 },
 "nbformat": 4,
 "nbformat_minor": 5
}
